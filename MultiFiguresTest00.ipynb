{
  "nbformat": 4,
  "nbformat_minor": 0,
  "metadata": {
    "colab": {
      "name": "MultiFiguresTest00",
      "provenance": [],
      "authorship_tag": "ABX9TyOHSRy8pbt8p7EvcuIhvSmE",
      "include_colab_link": true
    },
    "kernelspec": {
      "name": "python3",
      "display_name": "Python 3"
    }
  },
  "cells": [
    {
      "cell_type": "markdown",
      "metadata": {
        "id": "view-in-github",
        "colab_type": "text"
      },
      "source": [
        "<a href=\"https://colab.research.google.com/github/kameda-yoshinari/General/blob/master/MultiFiguresTest00.ipynb\" target=\"_parent\"><img src=\"https://colab.research.google.com/assets/colab-badge.svg\" alt=\"Open In Colab\"/></a>"
      ]
    },
    {
      "cell_type": "code",
      "metadata": {
        "id": "2aLARFZ-XN3d",
        "colab_type": "code",
        "colab": {}
      },
      "source": [
        "!date"
      ],
      "execution_count": 0,
      "outputs": []
    },
    {
      "cell_type": "markdown",
      "metadata": {
        "id": "lJZ76cLFXSzI",
        "colab_type": "text"
      },
      "source": [
        "図１．\n",
        "\n",
        "![da2020-graph6](https://user-images.githubusercontent.com/45651568/84224948-d3d8ff80-ab18-11ea-8ade-83985ae9cd79.jpg)\n"
      ]
    },
    {
      "cell_type": "markdown",
      "metadata": {
        "id": "7F13D9N-XfGo",
        "colab_type": "text"
      },
      "source": [
        "図２．って同じ図．\n",
        "\n",
        "![da2020-graph6](https://user-images.githubusercontent.com/45651568/84224948-d3d8ff80-ab18-11ea-8ade-83985ae9cd79.jpg)\n"
      ]
    },
    {
      "cell_type": "markdown",
      "metadata": {
        "id": "hYPRMD-IXjBI",
        "colab_type": "text"
      },
      "source": [
        "図３．大きいの．\n",
        "\n",
        "![da2020-floyd-bitmap](https://user-images.githubusercontent.com/45651568/84224666-1817d000-ab18-11ea-8b78-ab412dda3675.jpg)\n"
      ]
    }
  ]
}